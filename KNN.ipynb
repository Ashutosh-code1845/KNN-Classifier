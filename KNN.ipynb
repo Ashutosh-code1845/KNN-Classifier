{
 "cells": [
  {
   "cell_type": "code",
   "execution_count": null,
   "id": "17ec58a7",
   "metadata": {},
   "outputs": [],
   "source": [
    "from sklearn import datasets\n",
    "from sklearn.neighbors import KNeighborsClassifier\n",
    "\n",
    "iris = datasets.load_iris()\n",
    "\n",
    "features = iris.data\n",
    "labels = iris.target\n",
    "\n",
    "#training KNN classifier\n",
    "model = KNeighborsClassifier()\n",
    "model.fit(features,labels)\n",
    "\n",
    "prediction = model.predict([[1,1,1,1]])\n",
    "\n",
    "print(prediction)"
   ]
  }
 ],
 "metadata": {
  "kernelspec": {
   "display_name": "Python 3 (ipykernel)",
   "language": "python",
   "name": "python3"
  },
  "language_info": {
   "codemirror_mode": {
    "name": "ipython",
    "version": 3
   },
   "file_extension": ".py",
   "mimetype": "text/x-python",
   "name": "python",
   "nbconvert_exporter": "python",
   "pygments_lexer": "ipython3",
   "version": "3.9.7"
  }
 },
 "nbformat": 4,
 "nbformat_minor": 5
}
